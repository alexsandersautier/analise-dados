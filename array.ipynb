{
 "cells": [
  {
   "cell_type": "code",
   "execution_count": 7,
   "metadata": {},
   "outputs": [
    {
     "data": {
      "text/plain": [
       "2"
      ]
     },
     "execution_count": 7,
     "metadata": {},
     "output_type": "execute_result"
    }
   ],
   "source": [
    "import numpy as np\n",
    "\n",
    "#array (vetor)\n",
    "numbers = np.array([1, 2, 3])\n",
    "numbers\n",
    "\n",
    "#matriz\n",
    "headquarters = np.array([[1,2,3], [4,5,6]])\n",
    "headquarters\n",
    "\n",
    "#detalhar o tipo de dados do array\n",
    "headquarters.dtype\n",
    "\n",
    "#verificar a forma (lines/columns)\n",
    "headquarters.shape\n",
    "\n",
    "#verificar tamanho, quantidade de itens\n",
    "headquarters.size\n",
    "\n",
    "#saber quantas linhas tem o array\n",
    "headquarters.ndim"
   ]
  },
  {
   "cell_type": "markdown",
   "metadata": {},
   "source": [
    "### Desafio 1\n",
    "Tente criar um array com os números de 4 a 6 e imprima-o no console\n",
    "* Dica: Use o np.array\n",
    "\n"
   ]
  },
  {
   "cell_type": "code",
   "execution_count": 8,
   "metadata": {},
   "outputs": [
    {
     "data": {
      "text/plain": [
       "array([4, 6])"
      ]
     },
     "execution_count": 8,
     "metadata": {},
     "output_type": "execute_result"
    }
   ],
   "source": [
    "import numpy as np\n",
    "\n",
    "numbers = np.array([4,6])\n",
    "numbers"
   ]
  },
  {
   "cell_type": "markdown",
   "metadata": {},
   "source": [
    "### Desafio 2\n",
    "Crie um array bidimensional 2x2, onde a primeira linha tem os números 1 e 2 e a segunda linha tem os números 3 e 4.\n",
    "* Dica: Lembre-se da estrutura de listas dentro de listas para criar matrizes."
   ]
  },
  {
   "cell_type": "code",
   "execution_count": 9,
   "metadata": {},
   "outputs": [
    {
     "data": {
      "text/plain": [
       "array([[1, 2],\n",
       "       [3, 4]])"
      ]
     },
     "execution_count": 9,
     "metadata": {},
     "output_type": "execute_result"
    }
   ],
   "source": [
    "numbers = np.array([\n",
    "    [1,2],\n",
    "    [3,4]\n",
    "])\n",
    "\n",
    "numbers"
   ]
  }
 ],
 "metadata": {
  "kernelspec": {
   "display_name": "venv",
   "language": "python",
   "name": "python3"
  },
  "language_info": {
   "codemirror_mode": {
    "name": "ipython",
    "version": 3
   },
   "file_extension": ".py",
   "mimetype": "text/x-python",
   "name": "python",
   "nbconvert_exporter": "python",
   "pygments_lexer": "ipython3",
   "version": "3.12.1"
  }
 },
 "nbformat": 4,
 "nbformat_minor": 2
}
